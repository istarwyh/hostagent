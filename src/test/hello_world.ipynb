{
 "cells": [
  {
   "cell_type": "code",
   "execution_count": 19,
   "id": "6c4776d5",
   "metadata": {},
   "outputs": [
    {
     "data": {
      "image/png": "[encoded data removed]",
      "text/plain": [
       "<IPython.core.display.Image object>"
      ]
     },
     "metadata": {},
     "output_type": "display_data"
    },
    {
     "data": {
      "text/plain": [
       "'1_condition(HeyJohn, how are you?)'"
      ]
     },
     "execution_count": 19,
     "metadata": {},
     "output_type": "execute_result"
    }
   ],
   "source": [
    "from random import randint\n",
    "from typing import TypedDict\n",
    "\n",
    "from langgraph.graph import StateGraph,START,END\n",
    "\n",
    "class AgentState(TypedDict):\n",
    "    message: str\n",
    "    condition: str\n",
    "    \n",
    "def gretting_node(state: AgentState) -> AgentState:\n",
    "    \"\"\"Simple node that adds a greeting message to the state\"\"\"\n",
    "    state[\"message\"] = state[\"condition\"] + \"(Hey\" + state[\"message\"] + \", how are you?)\"\n",
    "    return state\n",
    "\n",
    "def router_node(state: AgentState) -> AgentState:\n",
    "    \"\"\"This node will select the next node of the graph \"\"\"\n",
    "    random_contion = randint(1,2)\n",
    "    if random_contion == 1:\n",
    "        state[\"condition\"] = \"1_condition\"\n",
    "        return state\n",
    "    else:\n",
    "        state[\"condition\"] = \"2_condition\"\n",
    "        return state\n",
    "\n",
    "def get_router_condition(state: AgentState) -> str:\n",
    "    \"\"\"This node will select the next node of the graph \"\"\"\n",
    "    return state[\"condition\"]\n",
    "    \n",
    "\n",
    "graph = StateGraph(AgentState)\n",
    "graph.add_node(\"1\", gretting_node)\n",
    "graph.add_node(\"2\", gretting_node)\n",
    "# graph.add_node(\"router\",lambda state: state)\n",
    "graph.add_node(\"router\",router_node)\n",
    "\n",
    "graph.add_edge(START,\"router\")\n",
    "graph.add_conditional_edges(\"router\",\n",
    "                            get_router_condition,\n",
    "                            {\"1_condition\":\"1\",\"2_condition\":\"2\"}\n",
    "                            )\n",
    "\n",
    "graph.add_edge(\"1\",END)\n",
    "graph.add_edge(\"2\",END)\n",
    "\n",
    "app = graph.compile()\n",
    "\n",
    "from IPython.display import Image,display\n",
    "display(Image(app.get_graph().draw_mermaid_png()))\n",
    "result = app.invoke({\"message\": \"John\",\"condition\": \"？\"})\n",
    "\n",
    "result[\"message\"]"
   ]
  }
 ],
 "metadata": {
  "kernelspec": {
   "display_name": "hostagent",
   "language": "python",
   "name": "python3"
  },
  "language_info": {
   "codemirror_mode": {
    "name": "ipython",
    "version": 3
   },
   "file_extension": ".py",
   "mimetype": "text/x-python",
   "name": "python",
   "nbconvert_exporter": "python",
   "pygments_lexer": "ipython3",
   "version": "3.12.11"
  }
 },
 "nbformat": 4,
 "nbformat_minor": 5
}
